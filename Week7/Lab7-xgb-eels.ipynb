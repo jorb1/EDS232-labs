{
 "cells": [
  {
   "cell_type": "markdown",
   "id": "b6e8c422-cc19-4d89-8f96-003c36cf7c33",
   "metadata": {},
   "source": [
    "## Lab 7: Eel Distribution Modeling with XGBoost\n",
    "\n",
    "**Reference Paper:** [Elith et al. (2008)](https://ucsb.box.com/s/6k7636wsbogdg3orarxrlowke0ounbic)\n",
    "\n",
    "In this lab, you will model the distribution of the eel species *Anguilla australis* using **boosted classification trees (BCTs)**, a machine learning technique that improves predictive performance by combining multiple decision trees. Elith et al. (2008) offered an early implementation of BRTs in an ecological setting to understand how environmental variables influence eel distribution.\n",
    "\n",
    "You will work with **two datasets**:\n",
    "1. **Training Data** – Used to build and evaluate your XGBoost model.\n",
    "2. **Evaluation Data** – Used to assess model performance on unseen data.\n",
    "\n",
    "To achieve the following objectives:\n",
    "- Train and fine-tune an **XGBoost** model for classification of species presence/absence data.\n",
    "- Compare your model’s performance to the approach used by Elith et al.\n",
    "\n",
    "\n",
    "**Wherever applicable in this lab, use a random state of 808.**"
   ]
  },
  {
   "cell_type": "markdown",
   "id": "ac39e743-8686-4f51-85ee-7c1925002f5f",
   "metadata": {},
   "source": [
    "### Step 0: Load libraries and data\n"
   ]
  },
  {
   "cell_type": "code",
   "execution_count": 15,
   "id": "dd687480-182a-4416-9cdd-10eb33d147d1",
   "metadata": {
    "tags": []
   },
   "outputs": [],
   "source": [
    "import pandas as pd\n",
    "from sklearn.model_selection import train_test_split,RandomizedSearchCV\n",
    "from sklearn.preprocessing import LabelEncoder\n",
    "import xgboost as xgb\n",
    "from xgboost import XGBClassifier\n",
    "from sklearn.metrics import roc_auc_score\n",
    "from scipy.stats import uniform, randint\n",
    "from sklearn.metrics import accuracy_score, roc_curve, auc\n",
    "\n",
    "# Download the datasets\n",
    "model_data = pd.read_csv(\"/courses/EDS232/Data/model.data.csv\").drop(columns=['Site'])\n",
    "eval_data = pd.read_csv(\"/courses/EDS232/Data/eval.data.csv\")"
   ]
  },
  {
   "cell_type": "markdown",
   "id": "21e16c25",
   "metadata": {},
   "source": [
    "### Step 1:Initial Data Preprocessing\n",
    "Let's get started by preparing our data. `Angaus` will be our target variable(`y`), and all other variables will be our features (`X`). Then encode the categorical feature using `LabelEncoder()`. The final step will be a bit different this time.  We don't need to split off testing data for the final model evaluation; a separate set (`eval_data`) will be used as in Elith et al.  We do, however, need to split our data in order to do the early stopping process. When splitting your data into training and validation, use a test size of 0.2 and a random state of 808. "
   ]
  },
  {
   "cell_type": "code",
   "execution_count": 2,
   "id": "92f8a3c0",
   "metadata": {
    "tags": []
   },
   "outputs": [],
   "source": [
    "# Separate target variable and features\n",
    "y = model_data['Angaus']  # Target variable (presence/absence of eel species)\n",
    "X = model_data.drop('Angaus', axis=1)  # Features\n",
    "\n",
    "# Apply label encoding to the 'Method' column\n",
    "label_encoder = LabelEncoder()\n",
    "X['Method'] = label_encoder.fit_transform(X['Method'])\n",
    "\n",
    "# Split data into training and validation sets for early stopping\n",
    "X_train, X_val, y_train, y_val = train_test_split(X, y, test_size=0.2, random_state=808)\n"
   ]
  },
  {
   "cell_type": "markdown",
   "id": "e025a34e",
   "metadata": {},
   "source": [
    "### Step 2: Determine best number of trees using early stopping\n",
    "As a guard against overfitting while maximizing performance, we use **early stopping**. We start with a large number of trees and allow XGBoost to determine the optimal number by stopping training when the validation error no longer improves.\n",
    "\n",
    "The choice of hyperparameter starting values is important in this process. We begin with:\n",
    "- `n_estimators=1000` to ensure the model has enough capacity to learn meaningful patterns.\n",
    "- `learning_rate=0.1` as a reasonable default that balances learning speed and performance.\n",
    "- `eval_metric=\"logloss\"` as the metric of performance to optimize.\n",
    "- `early_stopping_rounds=50` to halt training if no improvement is seen for 50 rounds, preventing unnecessary computations.\n",
    "- `random_state = 808`\n",
    "\n",
    "We then `fit()` our specified baseline model, passing in the training sets as usual and specifying validation sets values for the `eval_set` parameter.\n",
    "\n",
    "Finally, get and print the best number of trees from the fitted baseline model.\n"
   ]
  },
  {
   "cell_type": "code",
   "execution_count": 4,
   "id": "55bf0fa0",
   "metadata": {
    "tags": []
   },
   "outputs": [
    {
     "name": "stdout",
     "output_type": "stream",
     "text": [
      "Best number of trees: 29\n"
     ]
    }
   ],
   "source": [
    "# Create XGB model classifier\n",
    "xgb_model = xgb.XGBClassifier(n_estimators = 1000,\n",
    "                              learning_rate = 0.1,\n",
    "                              eval_metric = \"logloss\", \n",
    "                              early_stopping_rounds = 50,\n",
    "                              random_state = 808,\n",
    "                             n_jobs = -1) # A tip from Nicole for trying to optimize processing\n",
    "\n",
    "# Fit model\n",
    "xgb_model.fit(X_train, y_train, eval_set = [(X_val, y_val)], verbose = 0)\n",
    "\n",
    "# Print the best number of trees\n",
    "best_trees = xgb_model.best_iteration\n",
    "print(f\"Best number of trees: {best_trees}\")"
   ]
  },
  {
   "cell_type": "markdown",
   "id": "95ac1456",
   "metadata": {},
   "source": [
    "### Step 3: Tune Learning Rate\n",
    "\n",
    "The (`learning_rate` hyperparameter controls how much each tree contributes to improving the model's performance. A *higher* learning rate allows the model to learn quickly but risks missing the optimal solution and overfitting, while a *lower* learning rate makes learning slower but can improve generalization.\n",
    "\n",
    "To find the optimal value, we'll use **randomized search cross-validation** (`RandomizedSearchCV`) to test different learning rates in the 0.01 to 0.3 range. Instead of testing every possible value, this method samples a set number of candidates (`n_iter`) from a defined parameter distribution.  In this case, sampling 20 candidates from a uniform distribution between `0.01` and `0.31`. Check out the [documentation](https://docs.scipy.org/doc/scipy/reference/generated/scipy.stats.uniform.html) on `scipy.stats.uniform` to see how it differs from `random.uniform`. Be sure to use a random state of 808.\n",
    "\n",
    "After using `RandomizedSearchCV`, fit your model. Print the best learning rate. \n"
   ]
  },
  {
   "cell_type": "code",
   "execution_count": 5,
   "id": "393b5c0b-b212-440b-a052-0c9a7e406b0f",
   "metadata": {
    "tags": []
   },
   "outputs": [
    {
     "name": "stdout",
     "output_type": "stream",
     "text": [
      "Best learning rate: 0.10161649960684291\n"
     ]
    }
   ],
   "source": [
    "# Define hyperparameter distributions\n",
    "param_dist = {\n",
    "    \"learning_rate\":uniform(0.01, 0.31)\n",
    "}\n",
    "\n",
    "\n",
    "# Put a model on the best trees\n",
    "best_tree_model = xgb.XGBClassifier(n_estimators = best_trees,\n",
    "                                   random_state = 808)\n",
    "\n",
    "# Set up RandomizedSearchCV\n",
    "random_search = RandomizedSearchCV(best_tree_model, \n",
    "                                   param_dist, \n",
    "                                   n_iter = 20,\n",
    "                                   cv = 5, \n",
    "                                   random_state = 808,\n",
    "                                  n_jobs = -1)\n",
    "\n",
    "# Run random search\n",
    "random_search.fit(X_train, y_train)\n",
    "\n",
    "# Print the best learning rate\n",
    "best_learning_rate = random_search.best_params_['learning_rate']\n",
    "print(f\"Best learning rate: {best_learning_rate}\")"
   ]
  },
  {
   "cell_type": "markdown",
   "id": "71907b11",
   "metadata": {},
   "source": [
    "### Step 4: Tune Tree-Specific Parameters\n",
    "\n",
    "Now that we've determined the best number of tree and learning rate, we need to tune the complexity of individual trees in our model. Initialize your model with the best number of trees and learning rate.Then, define a parameter dictionary that takes on the following values:  \n",
    "\n",
    "- `max_depth`(Controls how deep each tree can grow.  Takes integer values): A random integer from 3 to 10 ( inclusive of 3 and 10)\n",
    "- `min_child_weight`( Determines the minimum number of samples required in a leaf node. Takes integer values) : A random integer from 1 to 10 ( inclusive of 1 and 10)\n",
    "- `gamma` (Defines the minimum loss reduction needed to make a further split in a tree. Can take on values from a continuous range):  A uniform distribution from 0.05 to 0.10 - once again remember to check the `scipy.stats.uniform()` documentation! \n",
    "- `random_state = 808`\n",
    "\n",
    "To find the best combination, we again use `RandomizedSearchCV`, allowing us to efficiently sample hyperparameters and evaluate different configurations using cross-validation. After fitting the model, print the best parameters. \n",
    "\n"
   ]
  },
  {
   "cell_type": "code",
   "execution_count": 11,
   "id": "95c411a3",
   "metadata": {
    "tags": []
   },
   "outputs": [
    {
     "name": "stdout",
     "output_type": "stream",
     "text": [
      "Best stochastic params: {'gamma': 0.05534152228259613, 'max_depth': 10, 'min_child_weight': 5}\n"
     ]
    }
   ],
   "source": [
    "# Define XGBoost model\n",
    "model_again = xgb.XGBClassifier(\n",
    "    n_estimators = best_trees,\n",
    "    learning_rate  = best_learning_rate,\n",
    "    random_state = 808,\n",
    "    #verbose=0,\n",
    "    n_jobs = -1)\n",
    "\n",
    "# Define parameter dictionary\n",
    "param_dist = {\n",
    "    'max_depth': randint(3, 11),\n",
    "    'min_child_weight': randint(1, 11),\n",
    "    'gamma': uniform(0.05, 0.05),\n",
    "}\n",
    "\n",
    "# Find best combination of parameteres\n",
    "random_search = RandomizedSearchCV(\n",
    "    model_again,\n",
    "    param_dist,\n",
    "    n_iter = 20, \n",
    "    random_state = 808,\n",
    "    cv = 5,\n",
    "    n_jobs = -1\n",
    ")\n",
    "\n",
    "# Fit the model to find the best parameters\n",
    "random_search.fit(X_train, y_train)\n",
    "\n",
    "# Print the best parameters...\n",
    "best_params_sto = random_search.best_params_\n",
    "print(f\"Best stochastic params: {best_params_sto}\")"
   ]
  },
  {
   "cell_type": "markdown",
   "id": "2168bf81",
   "metadata": {},
   "source": [
    "### Step 5: Tune Stochastic Components\n",
    "\n",
    "Now, we are finally ready to tune the stochastic components of the XGBoost model.  These parameters help prevent overfitting by reducing correlation between trees. Initialize your model with the best number of trees, best learning rate,and your optimized tree values (**Note**: you can use \\**best_tree_parameters to unpack the the dictionary of optimzed tree values) .Then, define a parameter dictionary that takes on the following values:  \n",
    "\n",
    "- `subsample` (Controls the fraction of training samples used for each boosting round) : A uniform distribution between .5 and .10 (remeber to check `scipy.stats.uniform()` documentation! )\n",
    "- `colsample_bytree`(Specifies the fraction of features to consider when building each tree) : A uniform distribution between .5 and .10\n",
    "- `random_state = 808`\n",
    "\n",
    "We again use `RandomizedSearchCV` to find the best combination of these parameters. After fitting the model, print the best parameters. \n"
   ]
  },
  {
   "cell_type": "code",
   "execution_count": 12,
   "id": "32a61aee-57b1-470b-aa07-488dbe70f898",
   "metadata": {
    "tags": []
   },
   "outputs": [
    {
     "name": "stdout",
     "output_type": "stream",
     "text": [
      "{'colsample_bytree': 0.7435738316840477, 'subsample': 0.8699203563223885}\n",
      "Best stochastic params: {'colsample_bytree': 0.7435738316840477, 'subsample': 0.8699203563223885}\n"
     ]
    }
   ],
   "source": [
    "# Define XGBoost model...again\n",
    "model_stochastic = xgb.XGBClassifier(\n",
    "    n_estimators = best_trees,\n",
    "    learning_rate  = best_learning_rate,\n",
    "    **best_params_sto, \n",
    "   eval_metric = \"logloss\", \n",
    "    random_state = 808,\n",
    "    n_jobs = -1)\n",
    "\n",
    "# Define dictionary\n",
    "param_dist = {\n",
    "    'subsample': uniform(0.5, 0.5),\n",
    "    'colsample_bytree': uniform(0.5, 0.5)\n",
    "}\n",
    "\n",
    "# Find best combination of parameters\n",
    "random_search = RandomizedSearchCV(\n",
    "    model_stochastic,\n",
    "    param_dist,\n",
    "    n_iter = 20,\n",
    "    random_state = 808,\n",
    "    n_jobs = -1)\n",
    "\n",
    "random_search.fit(X_train, y_train)\n",
    "\n",
    "print(random_search.best_params_)\n",
    "\n",
    "truly_best_params_sto = random_search.best_params_\n",
    "print(f\"Best stochastic params: {truly_best_params_sto}\")"
   ]
  },
  {
   "cell_type": "markdown",
   "id": "355cd2d2",
   "metadata": {},
   "source": [
    "### Step 6: Final Model Training and Evaluation\n",
    "\n",
    "With the best hyperparameters selected, we now train the final model on the full training dataset and evaluate it on the separate evaluation dataset.\n",
    "\n",
    "1. Prepare the evaluation data in the same manner as you did the training data\n",
    "\n",
    "2. Train final model using the best parameters found in previous tuning steps (`best_tree_params`, `best_stochastic_params`).Set  `eval_metric = \"logloss\"` \n",
    "\n",
    "3. Fit the model to the full training dataset and predict on the evaluation data \n"
   ]
  },
  {
   "cell_type": "code",
   "execution_count": 13,
   "id": "b68c8624-942b-4d1b-a665-77ca99685186",
   "metadata": {
    "scrolled": true,
    "tags": []
   },
   "outputs": [],
   "source": [
    "# Prepare the data, but now on the eval \n",
    "y_test = eval_data['Angaus_obs']\n",
    "X_test = eval_data.drop('Angaus_obs', axis = 1)\n",
    "\n",
    "# Label encoder stuff\n",
    "le = LabelEncoder()\n",
    "\n",
    "# Encode the \"Method\" column, again, but on other df\n",
    "X_test[\"Method\"] = le.fit_transform(X_test[\"Method\"])\n",
    "\n",
    "# Define XGBoost model...once again!\n",
    "final_model = xgb.XGBClassifier(n_estimators = best_trees,\n",
    "                          learning_rate = best_learning_rate,\n",
    "                          **best_params_sto,\n",
    "                          **truly_best_params_sto,\n",
    "                          eval_metric = \"logloss\",\n",
    "                          random_state = 808, \n",
    "                          n_jobs = -1)\n",
    "\n",
    "# Fit the model\n",
    "final_model.fit(X, y)\n",
    "\n",
    "# Predict!!!!!!\n",
    "y_pred = final_model.predict(X_test)"
   ]
  },
  {
   "cell_type": "markdown",
   "id": "1f39d80a",
   "metadata": {},
   "source": [
    "### Step 7: Model Performance\n",
    "\n",
    "Compute and print the AUC and feature importances for your model."
   ]
  },
  {
   "cell_type": "code",
   "execution_count": 17,
   "id": "cc9df468",
   "metadata": {
    "tags": []
   },
   "outputs": [
    {
     "name": "stdout",
     "output_type": "stream",
     "text": [
      "AUC: 0.8716677367957956\n",
      "       Feature  Importance\n",
      "0      SegSumT    0.211059\n",
      "10      Method    0.141461\n",
      "4   DSMaxSlope    0.140930\n",
      "8     USNative    0.110642\n",
      "6   USRainDays    0.088408\n",
      "3       DSDist    0.057238\n",
      "1     SegTSeas    0.057209\n",
      "7      USSlope    0.052555\n",
      "5       USAvgT    0.051734\n",
      "11      LocSed    0.046673\n",
      "2   SegLowFlow    0.042089\n",
      "9        DSDam    0.000000\n"
     ]
    }
   ],
   "source": [
    "# Calculate probability\n",
    "final_model_probs = final_model.predict_proba(X_test)[:, 1]\n",
    "\n",
    "# Compute ROC curve\n",
    "fpr, tpr, thresholds = roc_curve(y_test, final_model_probs)\n",
    "\n",
    "# Figure out auc\n",
    "auc = roc_auc_score(y_test, final_model_probs)\n",
    "\n",
    "# Print it!\n",
    "print(f\"AUC: {auc}\")\n",
    "\n",
    "# Find out feature importance....and make a dataframe out of it\n",
    "feature_importance = final_model.feature_importances_\n",
    "feature_names = X_train.columns\n",
    "importance_df = pd.DataFrame({'Feature': feature_names, 'Importance': feature_importance})\n",
    "importance_df = importance_df.sort_values('Importance', ascending = False)\n",
    "\n",
    "#Print the dataframe!\n",
    "print(importance_df)"
   ]
  },
  {
   "cell_type": "markdown",
   "id": "7476ef1d",
   "metadata": {},
   "source": [
    "### Step 8: The comparison\n",
    "How does your model's performance compare to the of Elith et al. (See Tables 2 and 3)?  Is there another way to compare the models in addition to predictive performance?  Whose model wins in that regard?"
   ]
  },
  {
   "cell_type": "markdown",
   "id": "07dc2a69-bf1e-4442-ad9e-22dc26e0f2b3",
   "metadata": {
    "tags": []
   },
   "source": [
    "*The XGB model is more accurate that that of Elith et al, according to our AUC score. However, it was a beast to make and run! So, there are likely more computationally efficient models, that require less iterating, which we could compare in addition to predictive performance.*"
   ]
  },
  {
   "cell_type": "code",
   "execution_count": null,
   "id": "2621ba6c-b893-497e-b277-cf39e18cfce2",
   "metadata": {},
   "outputs": [],
   "source": []
  }
 ],
 "metadata": {
  "kernelspec": {
   "display_name": "Anaconda 3 (EDS232)",
   "language": "python",
   "name": "ml-env"
  },
  "language_info": {
   "codemirror_mode": {
    "name": "ipython",
    "version": 3
   },
   "file_extension": ".py",
   "mimetype": "text/x-python",
   "name": "python",
   "nbconvert_exporter": "python",
   "pygments_lexer": "ipython3",
   "version": "3.10.16"
  }
 },
 "nbformat": 4,
 "nbformat_minor": 5
}
