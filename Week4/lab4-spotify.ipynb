{
 "cells": [
  {
   "cell_type": "markdown",
   "id": "ad7fbe2b-da60-4059-ae71-e322fecfd0db",
   "metadata": {},
   "source": [
    "# Lab 4: Building a Spotify Song Classifier with KNNs and Decision Trees\n",
    "**Classify by genres**. In this lab, you will build machine learning genre classifiers using a dataset of Spotify tracks. Your goal is to train a model that can distinguish between two selected genres based on various audio features such as danceability, energy, valence, tempo, and more.\n",
    "\n",
    "We'll follow the familiar workflow of data exploration -> preprocessing -> model training -> evaluation"
   ]
  },
  {
   "cell_type": "code",
   "execution_count": 1,
   "id": "cb34875f",
   "metadata": {
    "tags": []
   },
   "outputs": [],
   "source": [
    "import pandas as pd\n",
    "from sklearn.preprocessing import LabelEncoder\n",
    "from sklearn.preprocessing import StandardScaler\n",
    "from sklearn.model_selection import train_test_split\n",
    "import matplotlib.pyplot as plt\n",
    "import seaborn as sns\n",
    "from sklearn.neighbors import KNeighborsClassifier\n",
    "from sklearn.tree import DecisionTreeClassifier\n",
    "from sklearn.metrics import accuracy_score"
   ]
  },
  {
   "cell_type": "markdown",
   "id": "4aaac8c4-fbb4-40f9-8a59-e800395c6c65",
   "metadata": {},
   "source": [
    "### Step 1: The data\n",
    "We'll focus on two genres: Blues and Jazz (what’s the difference, anyway??).\n",
    "\n",
    "Both genres have rich musical histories, but they differ in structure:\n",
    "\n",
    "- Blues tends to have simpler chord progressions and a strong emotional expression.\n",
    "- Jazz often involves complex improvisation and more varied rhythms.\n",
    "\n",
    "But can a machine really tell them apart just by looking at numerical audio features? That’s what we’ll find out!\n",
    "\n",
    "In this step, you will:\n",
    "- Load the dataset\n",
    "- Extract only blues and jazz for classification"
   ]
  },
  {
   "cell_type": "code",
   "execution_count": 27,
   "id": "082e215a",
   "metadata": {
    "tags": []
   },
   "outputs": [
    {
     "name": "stdout",
     "output_type": "stream",
     "text": [
      "id                   object\n",
      "name                 object\n",
      "album                object\n",
      "album_id             object\n",
      "artists              object\n",
      "artist_ids           object\n",
      "track_number          int64\n",
      "disc_number           int64\n",
      "explicit               bool\n",
      "danceability        float64\n",
      "energy              float64\n",
      "key                   int64\n",
      "loudness            float64\n",
      "mode                  int64\n",
      "speechiness         float64\n",
      "acousticness        float64\n",
      "instrumentalness    float64\n",
      "liveness            float64\n",
      "valence             float64\n",
      "tempo               float64\n",
      "duration_ms           int64\n",
      "time_signature      float64\n",
      "year                  int64\n",
      "release_date         object\n",
      "genres               object\n",
      "dtype: object\n"
     ]
    }
   ],
   "source": [
    "spotify_data = pd.read_csv('/courses/EDS232/Data/spotify_dat.csv')\n",
    "\n",
    "# Print the data types in spotify_data\n",
    "print(spotify_data.dtypes)\n",
    "\n",
    "# Filter down to two genres\n",
    "blues_data = spotify_data[spotify_data['genres'] == \"blues\"]\n",
    "jazz_data = spotify_data[spotify_data['genres'] == \"jazz\"]\n",
    "\n",
    "# Combine both genres into one dataset\n",
    "combined_data = pd.concat([blues_data, jazz_data], ignore_index=True)\n",
    "\n",
    "# Rename 'genres' column to 'genre' for clarity\n",
    "combined_data = combined_data.rename(columns={'genres':'genre'})\n"
   ]
  },
  {
   "cell_type": "code",
   "execution_count": 28,
   "id": "1bda7d64-5d24-400c-8d97-ff93194199ff",
   "metadata": {
    "tags": []
   },
   "outputs": [
    {
     "data": {
      "text/html": [
       "<div>\n",
       "<style scoped>\n",
       "    .dataframe tbody tr th:only-of-type {\n",
       "        vertical-align: middle;\n",
       "    }\n",
       "\n",
       "    .dataframe tbody tr th {\n",
       "        vertical-align: top;\n",
       "    }\n",
       "\n",
       "    .dataframe thead th {\n",
       "        text-align: right;\n",
       "    }\n",
       "</style>\n",
       "<table border=\"1\" class=\"dataframe\">\n",
       "  <thead>\n",
       "    <tr style=\"text-align: right;\">\n",
       "      <th></th>\n",
       "      <th>id</th>\n",
       "      <th>name</th>\n",
       "      <th>album</th>\n",
       "      <th>album_id</th>\n",
       "      <th>artists</th>\n",
       "      <th>artist_ids</th>\n",
       "      <th>track_number</th>\n",
       "      <th>disc_number</th>\n",
       "      <th>explicit</th>\n",
       "      <th>danceability</th>\n",
       "      <th>...</th>\n",
       "      <th>acousticness</th>\n",
       "      <th>instrumentalness</th>\n",
       "      <th>liveness</th>\n",
       "      <th>valence</th>\n",
       "      <th>tempo</th>\n",
       "      <th>duration_ms</th>\n",
       "      <th>time_signature</th>\n",
       "      <th>year</th>\n",
       "      <th>release_date</th>\n",
       "      <th>genre</th>\n",
       "    </tr>\n",
       "  </thead>\n",
       "  <tbody>\n",
       "    <tr>\n",
       "      <th>0</th>\n",
       "      <td>4MdlxZHzUi8fGvuXOtNVhb</td>\n",
       "      <td>Johnny B. Goode - Live</td>\n",
       "      <td>Johnny Winter: A Rock N' Roll Collection</td>\n",
       "      <td>6yn5Mylr8HsH9PVro7Fo22</td>\n",
       "      <td>['Johnny Winter']</td>\n",
       "      <td>['2ODUxmFxJSyvGiimNhMHbO']</td>\n",
       "      <td>1</td>\n",
       "      <td>1</td>\n",
       "      <td>False</td>\n",
       "      <td>0.415</td>\n",
       "      <td>...</td>\n",
       "      <td>0.023</td>\n",
       "      <td>0.077100</td>\n",
       "      <td>0.9410</td>\n",
       "      <td>0.924</td>\n",
       "      <td>159.366</td>\n",
       "      <td>203407</td>\n",
       "      <td>4.0</td>\n",
       "      <td>1973</td>\n",
       "      <td>1973</td>\n",
       "      <td>blues</td>\n",
       "    </tr>\n",
       "    <tr>\n",
       "      <th>1</th>\n",
       "      <td>576DmaRTiVhm3l00mpQwDm</td>\n",
       "      <td>Good Morning Little School Girl - Live</td>\n",
       "      <td>Johnny Winter: A Rock N' Roll Collection</td>\n",
       "      <td>6yn5Mylr8HsH9PVro7Fo22</td>\n",
       "      <td>['Johnny Winter']</td>\n",
       "      <td>['2ODUxmFxJSyvGiimNhMHbO']</td>\n",
       "      <td>2</td>\n",
       "      <td>1</td>\n",
       "      <td>False</td>\n",
       "      <td>0.294</td>\n",
       "      <td>...</td>\n",
       "      <td>0.188</td>\n",
       "      <td>0.422000</td>\n",
       "      <td>0.9740</td>\n",
       "      <td>0.639</td>\n",
       "      <td>187.886</td>\n",
       "      <td>276968</td>\n",
       "      <td>4.0</td>\n",
       "      <td>1973</td>\n",
       "      <td>1973</td>\n",
       "      <td>blues</td>\n",
       "    </tr>\n",
       "    <tr>\n",
       "      <th>2</th>\n",
       "      <td>3k3Q8IZ5oOqCUfOP2UPgpW</td>\n",
       "      <td>I'll Drown in My Tears</td>\n",
       "      <td>Johnny Winter: A Rock N' Roll Collection</td>\n",
       "      <td>6yn5Mylr8HsH9PVro7Fo22</td>\n",
       "      <td>['Johnny Winter']</td>\n",
       "      <td>['2ODUxmFxJSyvGiimNhMHbO']</td>\n",
       "      <td>3</td>\n",
       "      <td>1</td>\n",
       "      <td>False</td>\n",
       "      <td>0.424</td>\n",
       "      <td>...</td>\n",
       "      <td>0.827</td>\n",
       "      <td>0.000021</td>\n",
       "      <td>0.0742</td>\n",
       "      <td>0.390</td>\n",
       "      <td>95.799</td>\n",
       "      <td>285360</td>\n",
       "      <td>3.0</td>\n",
       "      <td>1973</td>\n",
       "      <td>1973</td>\n",
       "      <td>blues</td>\n",
       "    </tr>\n",
       "    <tr>\n",
       "      <th>3</th>\n",
       "      <td>1fuxmrrP5JKu0eeHi1c7Ug</td>\n",
       "      <td>When You Got A Good Friend</td>\n",
       "      <td>Johnny Winter: A Rock N' Roll Collection</td>\n",
       "      <td>6yn5Mylr8HsH9PVro7Fo22</td>\n",
       "      <td>['Johnny Winter']</td>\n",
       "      <td>['2ODUxmFxJSyvGiimNhMHbO']</td>\n",
       "      <td>4</td>\n",
       "      <td>1</td>\n",
       "      <td>False</td>\n",
       "      <td>0.504</td>\n",
       "      <td>...</td>\n",
       "      <td>0.831</td>\n",
       "      <td>0.030000</td>\n",
       "      <td>0.1680</td>\n",
       "      <td>0.787</td>\n",
       "      <td>146.244</td>\n",
       "      <td>218453</td>\n",
       "      <td>4.0</td>\n",
       "      <td>1973</td>\n",
       "      <td>1973</td>\n",
       "      <td>blues</td>\n",
       "    </tr>\n",
       "    <tr>\n",
       "      <th>4</th>\n",
       "      <td>6yziyzrBhA2mFApoJKAill</td>\n",
       "      <td>Be Careful with a Fool</td>\n",
       "      <td>Johnny Winter: A Rock N' Roll Collection</td>\n",
       "      <td>6yn5Mylr8HsH9PVro7Fo22</td>\n",
       "      <td>['Johnny Winter']</td>\n",
       "      <td>['2ODUxmFxJSyvGiimNhMHbO']</td>\n",
       "      <td>5</td>\n",
       "      <td>1</td>\n",
       "      <td>False</td>\n",
       "      <td>0.293</td>\n",
       "      <td>...</td>\n",
       "      <td>0.494</td>\n",
       "      <td>0.022300</td>\n",
       "      <td>0.2080</td>\n",
       "      <td>0.730</td>\n",
       "      <td>206.991</td>\n",
       "      <td>315133</td>\n",
       "      <td>3.0</td>\n",
       "      <td>1973</td>\n",
       "      <td>1973</td>\n",
       "      <td>blues</td>\n",
       "    </tr>\n",
       "  </tbody>\n",
       "</table>\n",
       "<p>5 rows × 25 columns</p>\n",
       "</div>"
      ],
      "text/plain": [
       "                       id                                    name  \\\n",
       "0  4MdlxZHzUi8fGvuXOtNVhb                  Johnny B. Goode - Live   \n",
       "1  576DmaRTiVhm3l00mpQwDm  Good Morning Little School Girl - Live   \n",
       "2  3k3Q8IZ5oOqCUfOP2UPgpW                  I'll Drown in My Tears   \n",
       "3  1fuxmrrP5JKu0eeHi1c7Ug              When You Got A Good Friend   \n",
       "4  6yziyzrBhA2mFApoJKAill                  Be Careful with a Fool   \n",
       "\n",
       "                                      album                album_id  \\\n",
       "0  Johnny Winter: A Rock N' Roll Collection  6yn5Mylr8HsH9PVro7Fo22   \n",
       "1  Johnny Winter: A Rock N' Roll Collection  6yn5Mylr8HsH9PVro7Fo22   \n",
       "2  Johnny Winter: A Rock N' Roll Collection  6yn5Mylr8HsH9PVro7Fo22   \n",
       "3  Johnny Winter: A Rock N' Roll Collection  6yn5Mylr8HsH9PVro7Fo22   \n",
       "4  Johnny Winter: A Rock N' Roll Collection  6yn5Mylr8HsH9PVro7Fo22   \n",
       "\n",
       "             artists                  artist_ids  track_number  disc_number  \\\n",
       "0  ['Johnny Winter']  ['2ODUxmFxJSyvGiimNhMHbO']             1            1   \n",
       "1  ['Johnny Winter']  ['2ODUxmFxJSyvGiimNhMHbO']             2            1   \n",
       "2  ['Johnny Winter']  ['2ODUxmFxJSyvGiimNhMHbO']             3            1   \n",
       "3  ['Johnny Winter']  ['2ODUxmFxJSyvGiimNhMHbO']             4            1   \n",
       "4  ['Johnny Winter']  ['2ODUxmFxJSyvGiimNhMHbO']             5            1   \n",
       "\n",
       "   explicit  danceability  ...  acousticness  instrumentalness  liveness  \\\n",
       "0     False         0.415  ...         0.023          0.077100    0.9410   \n",
       "1     False         0.294  ...         0.188          0.422000    0.9740   \n",
       "2     False         0.424  ...         0.827          0.000021    0.0742   \n",
       "3     False         0.504  ...         0.831          0.030000    0.1680   \n",
       "4     False         0.293  ...         0.494          0.022300    0.2080   \n",
       "\n",
       "   valence    tempo  duration_ms  time_signature  year  release_date  genre  \n",
       "0    0.924  159.366       203407             4.0  1973          1973  blues  \n",
       "1    0.639  187.886       276968             4.0  1973          1973  blues  \n",
       "2    0.390   95.799       285360             3.0  1973          1973  blues  \n",
       "3    0.787  146.244       218453             4.0  1973          1973  blues  \n",
       "4    0.730  206.991       315133             3.0  1973          1973  blues  \n",
       "\n",
       "[5 rows x 25 columns]"
      ]
     },
     "execution_count": 28,
     "metadata": {},
     "output_type": "execute_result"
    }
   ],
   "source": [
    "# Check to make sure it all worked\n",
    "combined_data.head()"
   ]
  },
  {
   "cell_type": "markdown",
   "id": "70e8340d-f51a-4659-b3eb-c0549575552a",
   "metadata": {},
   "source": [
    "## Step 2: Data Exploration\n",
    "Now that we have Blues and Jazz as our two genres, it's time to explore the data and look for patterns in the audio features.\n",
    "\n",
    "Let's investigate:\n",
    "- Which features are available?\n",
    "- How strongly these features correlate with each other.\n",
    "- How different genres distribute across  sample features: danceability \n",
    "\n",
    "In this step, we will:\n",
    "- Filter out non-numeric columns before the plotting\n",
    "- Visualize feature correlations using a heatmap.\n",
    "- Examine key feature distributions with histograms to see if genres behave differently.\n"
   ]
  },
  {
   "cell_type": "code",
   "execution_count": 52,
   "id": "8d476df1-a888-43a2-aabb-987bc9e835aa",
   "metadata": {
    "tags": []
   },
   "outputs": [
    {
     "data": {
      "image/png": "[encoded data removed]",
      "text/plain": [
       "<Figure size 800x600 with 2 Axes>"
      ]
     },
     "metadata": {},
     "output_type": "display_data"
    },
    {
     "name": "stderr",
     "output_type": "stream",
     "text": [
      "No artists with labels found to put in legend.  Note that artists whose label start with an underscore are ignored when legend() is called with no argument.\n"
     ]
    },
    {
     "data": {
      "image/png": "[encoded data removed]",
      "text/plain": [
       "<Figure size 800x600 with 1 Axes>"
      ]
     },
     "metadata": {},
     "output_type": "display_data"
    }
   ],
   "source": [
    "# Exclude non-numeric columns but keep 'genre' for grouping\n",
    "numeric_features = combined_data.select_dtypes(include = ['number']).copy()\n",
    "numeric_features['genre'] = combined_data['genre']\n",
    "\n",
    "#Correlation heatmap\n",
    "plt.figure(figsize = (8,6))\n",
    "sns.heatmap(numeric_features.corr(), cmap = \"YlOrRd\")\n",
    "plt.title('Correlation heat map', )\n",
    "plt.show()\n",
    "\n",
    "#Histogram of danceability\n",
    "plt.figure(figsize = (8,6))\n",
    "sns.histplot(data=combined_data, x='danceability', hue = 'genre')\n",
    "plt.title('Danceability by Genre')\n",
    "plt.xlabel('Danceability')\n",
    "plt.ylabel('Count')\n",
    "plt.legend(title='Genre')\n",
    "plt.show()\n",
    "\n",
    "#plt.figure(figsize=(8, 6))\n",
    "#sns.histplot(data=combined_data, x='danceability', hue='genre', bins=30, kde=True, alpha=0.6)"
   ]
  },
  {
   "cell_type": "markdown",
   "id": "56f79f22-1036-4ae9-90f8-73ad0f6169b0",
   "metadata": {},
   "source": [
    "### Step 3: Check for class imbalance\n",
    "An unequal distribution between the target classes can cause issues for our classifiers, so we'll need to check for that. A commonly used guideline for class imbalance is:\n",
    "\n",
    "- Slight Imbalance (Less than 1.5:1) → Generally okay; no need for balancing.\n",
    "- Moderate Imbalance (Between 1.5:1 and 3:1) → Might cause some bias; balancing can help.\n",
    "- Severe Imbalance (More than 3:1) → Strongly affects model performance; balancing is usually necessary."
   ]
  },
  {
   "cell_type": "code",
   "execution_count": 53,
   "id": "1470168c-bd6c-412a-9549-47ff191e8644",
   "metadata": {
    "tags": []
   },
   "outputs": [
    {
     "name": "stdout",
     "output_type": "stream",
     "text": [
      "Majority-to-minority class ratio: 1.48\n"
     ]
    }
   ],
   "source": [
    "# Print counts of each genre\n",
    "class_counts = combined_data['genre'].value_counts()\n",
    "\n",
    "# Calculate ratio of majority to minority class\n",
    "class_ratio = class_counts.max() / class_counts.min()\n",
    "\n",
    "# Print class distribution and ratio\n",
    "print(f\"Majority-to-minority class ratio: {class_ratio:.2f}\")"
   ]
  },
  {
   "cell_type": "markdown",
   "id": "a20e289d",
   "metadata": {},
   "source": [
    "Given this result, should we be worried about the imbalance?"
   ]
  },
  {
   "cell_type": "markdown",
   "id": "8d3583ec",
   "metadata": {},
   "source": [
    "*your answer here*"
   ]
  },
  {
   "cell_type": "markdown",
   "id": "8a5d0f97",
   "metadata": {},
   "source": [
    "### Step 4: Preprocessing\n",
    "We need to ensure all the variables we use are numerical so the models can process them. First we'll drop all the variables that are not numeric or the target. Then we'll use a sklearn utility, `LabelEncoder()` to encode our categorical target variable into numerical values. Print the first five values of your encoded labels."
   ]
  },
  {
   "cell_type": "code",
   "execution_count": null,
   "id": "6ce674f3",
   "metadata": {
    "tags": []
   },
   "outputs": [],
   "source": [
    "# Define the features (drop columns that are not numeric or target)\n",
    "X = \n",
    "\n",
    "# Set the target variable as 'genre'\n",
    "y =  \n",
    "\n",
    "# Encode the target variable ('label') using label encoding\n",
    "label_encoder = LabelEncoder()\n",
    "y_encoded =\n",
    "\n",
    "# Print first five values of encoded labels\n"
   ]
  },
  {
   "cell_type": "markdown",
   "id": "fee85305",
   "metadata": {},
   "source": [
    "Good, now we'll do our data splitting and scaling.  Let's go with an 80/20 split this time."
   ]
  },
  {
   "cell_type": "code",
   "execution_count": null,
   "id": "2a0cf1df",
   "metadata": {},
   "outputs": [],
   "source": [
    "# Split data into 80% train and 20% test\n",
    "X_train, X_test, y_train, y_test = \n",
    "\n",
    "# Initialize the scaler\n",
    "scaler = \n",
    "\n",
    "# Fit and transform only the training set\n",
    "X_train_scaled = \n",
    "\n",
    "# Use the same scaler to transform the test set\n",
    "X_test_scaled = \n",
    "\n"
   ]
  },
  {
   "cell_type": "markdown",
   "id": "d74c0a3c-c1b9-438a-8e44-5654e6406f6d",
   "metadata": {},
   "source": [
    "### Step 5: Train the models\n",
    "OK, now it's time to build our models and assess the training accuracy. We'll use the default of k = 5 for the KNN model."
   ]
  },
  {
   "cell_type": "code",
   "execution_count": null,
   "id": "3f88e4c7",
   "metadata": {},
   "outputs": [],
   "source": [
    "# Initialize models\n",
    "knn = \n",
    "dt = \n",
    "\n",
    "# Train (fit) both models\n",
    "\n",
    "\n",
    "# Predictions on training data\n",
    "knn_y_train_pred = \n",
    "dt_y_train_pred = \n",
    "\n",
    "# Compute training accuracy\n",
    "knn_train_accuracy = \n",
    "dt_train_accuracy = \n",
    "\n",
    "#Print training accuracy for both models\n"
   ]
  },
  {
   "cell_type": "markdown",
   "id": "8a0ec565",
   "metadata": {},
   "source": [
    "### Step 6: Evaluate models\n",
    "OK, now let's go ahead and predict on the test data to see how well our models do at predicting the genre of unseen tracks."
   ]
  },
  {
   "cell_type": "code",
   "execution_count": null,
   "id": "b1ce64ad",
   "metadata": {},
   "outputs": [],
   "source": [
    "# Make predictions\n",
    "knn_pred = \n",
    "dt_pred = \n",
    "\n",
    "# Evaluate prediction accuracy\n",
    "knn_accuracy = \n",
    "dt_accuracy = \n",
    "\n",
    "#Print prediction accuracy for both models\n"
   ]
  },
  {
   "cell_type": "markdown",
   "id": "84aed7de",
   "metadata": {},
   "source": [
    "### Step 7: Visualizing Model Performance\n",
    "Now that we have evaluated our models on unseen data, let’s compare their performance by visualizing the training vs. test accuracy.  We'll look for signs of overfitting by plotting the training accuracy and test accuracy for both k-NN and Decision Trees.\n",
    "\n",
    "Create a bar chart that compares the training accuracy and test accuracy for k-NN and Decision Trees. Your plot should clearly display:\n",
    "\n",
    "- The training and test accuracy for both models.\n",
    "- Properly labeled axes and a title.\n",
    "- A legend to differentiate training and test accuracy.\n",
    "- Accuracy values displayed on top of each bar."
   ]
  },
  {
   "cell_type": "code",
   "execution_count": null,
   "id": "ce4efa80",
   "metadata": {},
   "outputs": [],
   "source": []
  },
  {
   "cell_type": "markdown",
   "id": "2bea31ee",
   "metadata": {},
   "source": [
    "Which model does a better job of generalizing to unseen data? How do you know?\n",
    "Does it appear that either of the models are overfitting? Why?"
   ]
  },
  {
   "cell_type": "markdown",
   "id": "7a6ab978",
   "metadata": {},
   "source": [
    "*your anwer here*"
   ]
  },
  {
   "cell_type": "markdown",
   "id": "b0fb937d-c97c-49f8-9376-1b03b51b0226",
   "metadata": {},
   "source": [
    "### Bonus question\n",
    "In the workflow above, we used the default parameter values of k = 5 for the KNN model, and maxdepth = None for the Decision Tree. Choose one of the models and see if you can improve test performance by optmizing its corresponding parameter value."
   ]
  }
 ],
 "metadata": {
  "kernelspec": {
   "display_name": "Python 3 (ipykernel)",
   "language": "python",
   "name": "python3"
  },
  "language_info": {
   "codemirror_mode": {
    "name": "ipython",
    "version": 3
   },
   "file_extension": ".py",
   "mimetype": "text/x-python",
   "name": "python",
   "nbconvert_exporter": "python",
   "pygments_lexer": "ipython3",
   "version": "3.7.13"
  }
 },
 "nbformat": 4,
 "nbformat_minor": 5
}
