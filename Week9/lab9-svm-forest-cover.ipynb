{
 "cells": [
  {
   "cell_type": "markdown",
   "metadata": {},
   "source": [
    "## Lab 9: Predicting Forest Cover Type with SVMs"
   ]
  },
  {
   "cell_type": "markdown",
   "metadata": {},
   "source": [
    "### Introduction\n",
    "In this lab, we will explore the application of Support Vector Machines (SVMs) and Random Forests (RFs) for multi-class classification using cartographic variables. Specifically, we will predict forest cover type based on a variety of environmental features such as elevation, soil type, and land aspect.\n",
    "\n",
    "Understanding forest cover classification is crucial for natural resource management. Land managers and conservationists rely on accurate predictions of vegetation types to make informed decisions about wildlife habitats, fire management, and sustainable forestry practices. However, direct field assessments of forest cover can be costly and time-consuming, making predictive models a valuable tool for estimating cover types in large or inaccessible regions.\n",
    "\n",
    "Dataset info here: https://archive.ics.uci.edu/dataset/31/covertype\n"
   ]
  },
  {
   "cell_type": "markdown",
   "metadata": {},
   "source": [
    "### Step 0: Load Libraries and Data"
   ]
  },
  {
   "cell_type": "code",
   "execution_count": 12,
   "metadata": {
    "tags": []
   },
   "outputs": [],
   "source": [
    "import pandas as pd\n",
    "import time\n",
    "from sklearn.model_selection import train_test_split, StratifiedKFold, GridSearchCV\n",
    "from sklearn.preprocessing import StandardScaler\n",
    "from sklearn.svm import SVC\n",
    "from sklearn.ensemble import RandomForestClassifier\n",
    "from sklearn.metrics import accuracy_score, confusion_matrix, ConfusionMatrixDisplay\n",
    "import matplotlib.pyplot as plt\n",
    "import seaborn as sns\n",
    "\n",
    "# Load the dataset\n",
    "df = pd.read_csv(\"/courses/EDS232/Data/covtype_sample.csv\")"
   ]
  },
  {
   "cell_type": "markdown",
   "metadata": {},
   "source": [
    "### Step 1: Data Preprocessing \n",
    "\n",
    "Before building our classification models, we need to prepare the dataset by separating the features target variable (`Cover_Type`) and  splitting the data into training and test sets. \n",
    "\n",
    "We didn't explicitly discuss it in lecture, but SVMs are sensitive to feature scale.  Use `describe()` to summarize the dataset.  Do you see anything that would require scaling of the data?  If so, apply that transformation."
   ]
  },
  {
   "cell_type": "code",
   "execution_count": 5,
   "metadata": {
    "tags": []
   },
   "outputs": [
    {
     "data": {
      "text/html": [
       "<div>\n",
       "<style scoped>\n",
       "    .dataframe tbody tr th:only-of-type {\n",
       "        vertical-align: middle;\n",
       "    }\n",
       "\n",
       "    .dataframe tbody tr th {\n",
       "        vertical-align: top;\n",
       "    }\n",
       "\n",
       "    .dataframe thead th {\n",
       "        text-align: right;\n",
       "    }\n",
       "</style>\n",
       "<table border=\"1\" class=\"dataframe\">\n",
       "  <thead>\n",
       "    <tr style=\"text-align: right;\">\n",
       "      <th></th>\n",
       "      <th>Elevation</th>\n",
       "      <th>Aspect</th>\n",
       "      <th>Slope</th>\n",
       "      <th>Horizontal_Distance_To_Hydrology</th>\n",
       "      <th>Horizontal_Distance_To_Roadways</th>\n",
       "      <th>Hillshade_9am</th>\n",
       "      <th>Hillshade_Noon</th>\n",
       "      <th>Hillshade_3pm</th>\n",
       "      <th>Horizontal_Distance_To_Fire_Points</th>\n",
       "      <th>Wilderness_Area_Rawah</th>\n",
       "      <th>...</th>\n",
       "      <th>Soil_Type_32</th>\n",
       "      <th>Soil_Type_33</th>\n",
       "      <th>Soil_Type_34</th>\n",
       "      <th>Soil_Type_35</th>\n",
       "      <th>Soil_Type_36</th>\n",
       "      <th>Soil_Type_37</th>\n",
       "      <th>Soil_Type_38</th>\n",
       "      <th>Soil_Type_39</th>\n",
       "      <th>Soil_Type_40</th>\n",
       "      <th>Cover_Type</th>\n",
       "    </tr>\n",
       "  </thead>\n",
       "  <tbody>\n",
       "    <tr>\n",
       "      <th>count</th>\n",
       "      <td>10000.000000</td>\n",
       "      <td>10000.000000</td>\n",
       "      <td>10000.000000</td>\n",
       "      <td>10000.000000</td>\n",
       "      <td>10000.000000</td>\n",
       "      <td>10000.000000</td>\n",
       "      <td>10000.00000</td>\n",
       "      <td>10000.000000</td>\n",
       "      <td>10000.000000</td>\n",
       "      <td>10000.000000</td>\n",
       "      <td>...</td>\n",
       "      <td>10000.000000</td>\n",
       "      <td>10000.000000</td>\n",
       "      <td>10000.00000</td>\n",
       "      <td>10000.00000</td>\n",
       "      <td>10000.000000</td>\n",
       "      <td>10000.000000</td>\n",
       "      <td>10000.000000</td>\n",
       "      <td>10000.000000</td>\n",
       "      <td>10000.000000</td>\n",
       "      <td>10000.000000</td>\n",
       "    </tr>\n",
       "    <tr>\n",
       "      <th>mean</th>\n",
       "      <td>2955.599500</td>\n",
       "      <td>154.450000</td>\n",
       "      <td>14.114700</td>\n",
       "      <td>268.097600</td>\n",
       "      <td>45.755300</td>\n",
       "      <td>2319.360300</td>\n",
       "      <td>212.19660</td>\n",
       "      <td>223.113500</td>\n",
       "      <td>142.243800</td>\n",
       "      <td>1960.040200</td>\n",
       "      <td>...</td>\n",
       "      <td>0.091200</td>\n",
       "      <td>0.082900</td>\n",
       "      <td>0.00250</td>\n",
       "      <td>0.00250</td>\n",
       "      <td>0.000200</td>\n",
       "      <td>0.000500</td>\n",
       "      <td>0.026800</td>\n",
       "      <td>0.024500</td>\n",
       "      <td>0.013600</td>\n",
       "      <td>2.036600</td>\n",
       "    </tr>\n",
       "    <tr>\n",
       "      <th>std</th>\n",
       "      <td>281.786673</td>\n",
       "      <td>111.851861</td>\n",
       "      <td>7.499705</td>\n",
       "      <td>211.899673</td>\n",
       "      <td>58.034207</td>\n",
       "      <td>1548.558651</td>\n",
       "      <td>26.98846</td>\n",
       "      <td>19.871067</td>\n",
       "      <td>37.799752</td>\n",
       "      <td>1320.535941</td>\n",
       "      <td>...</td>\n",
       "      <td>0.287908</td>\n",
       "      <td>0.275745</td>\n",
       "      <td>0.04994</td>\n",
       "      <td>0.04994</td>\n",
       "      <td>0.014141</td>\n",
       "      <td>0.022356</td>\n",
       "      <td>0.161507</td>\n",
       "      <td>0.154603</td>\n",
       "      <td>0.115829</td>\n",
       "      <td>1.383782</td>\n",
       "    </tr>\n",
       "    <tr>\n",
       "      <th>min</th>\n",
       "      <td>1860.000000</td>\n",
       "      <td>0.000000</td>\n",
       "      <td>0.000000</td>\n",
       "      <td>0.000000</td>\n",
       "      <td>-164.000000</td>\n",
       "      <td>0.000000</td>\n",
       "      <td>68.00000</td>\n",
       "      <td>71.000000</td>\n",
       "      <td>0.000000</td>\n",
       "      <td>0.000000</td>\n",
       "      <td>...</td>\n",
       "      <td>0.000000</td>\n",
       "      <td>0.000000</td>\n",
       "      <td>0.00000</td>\n",
       "      <td>0.00000</td>\n",
       "      <td>0.000000</td>\n",
       "      <td>0.000000</td>\n",
       "      <td>0.000000</td>\n",
       "      <td>0.000000</td>\n",
       "      <td>0.000000</td>\n",
       "      <td>1.000000</td>\n",
       "    </tr>\n",
       "    <tr>\n",
       "      <th>25%</th>\n",
       "      <td>2804.750000</td>\n",
       "      <td>58.000000</td>\n",
       "      <td>9.000000</td>\n",
       "      <td>95.000000</td>\n",
       "      <td>7.000000</td>\n",
       "      <td>1091.750000</td>\n",
       "      <td>198.00000</td>\n",
       "      <td>213.000000</td>\n",
       "      <td>119.000000</td>\n",
       "      <td>1006.000000</td>\n",
       "      <td>...</td>\n",
       "      <td>0.000000</td>\n",
       "      <td>0.000000</td>\n",
       "      <td>0.00000</td>\n",
       "      <td>0.00000</td>\n",
       "      <td>0.000000</td>\n",
       "      <td>0.000000</td>\n",
       "      <td>0.000000</td>\n",
       "      <td>0.000000</td>\n",
       "      <td>0.000000</td>\n",
       "      <td>1.000000</td>\n",
       "    </tr>\n",
       "    <tr>\n",
       "      <th>50%</th>\n",
       "      <td>2995.000000</td>\n",
       "      <td>126.000000</td>\n",
       "      <td>13.000000</td>\n",
       "      <td>218.000000</td>\n",
       "      <td>29.000000</td>\n",
       "      <td>1977.000000</td>\n",
       "      <td>218.00000</td>\n",
       "      <td>226.000000</td>\n",
       "      <td>142.000000</td>\n",
       "      <td>1699.000000</td>\n",
       "      <td>...</td>\n",
       "      <td>0.000000</td>\n",
       "      <td>0.000000</td>\n",
       "      <td>0.00000</td>\n",
       "      <td>0.00000</td>\n",
       "      <td>0.000000</td>\n",
       "      <td>0.000000</td>\n",
       "      <td>0.000000</td>\n",
       "      <td>0.000000</td>\n",
       "      <td>0.000000</td>\n",
       "      <td>2.000000</td>\n",
       "    </tr>\n",
       "    <tr>\n",
       "      <th>75%</th>\n",
       "      <td>3159.000000</td>\n",
       "      <td>258.000000</td>\n",
       "      <td>18.000000</td>\n",
       "      <td>384.000000</td>\n",
       "      <td>68.000000</td>\n",
       "      <td>3279.000000</td>\n",
       "      <td>231.00000</td>\n",
       "      <td>237.000000</td>\n",
       "      <td>168.000000</td>\n",
       "      <td>2524.000000</td>\n",
       "      <td>...</td>\n",
       "      <td>0.000000</td>\n",
       "      <td>0.000000</td>\n",
       "      <td>0.00000</td>\n",
       "      <td>0.00000</td>\n",
       "      <td>0.000000</td>\n",
       "      <td>0.000000</td>\n",
       "      <td>0.000000</td>\n",
       "      <td>0.000000</td>\n",
       "      <td>0.000000</td>\n",
       "      <td>2.000000</td>\n",
       "    </tr>\n",
       "    <tr>\n",
       "      <th>max</th>\n",
       "      <td>3846.000000</td>\n",
       "      <td>359.000000</td>\n",
       "      <td>65.000000</td>\n",
       "      <td>1243.000000</td>\n",
       "      <td>427.000000</td>\n",
       "      <td>7078.000000</td>\n",
       "      <td>254.00000</td>\n",
       "      <td>254.000000</td>\n",
       "      <td>246.000000</td>\n",
       "      <td>7111.000000</td>\n",
       "      <td>...</td>\n",
       "      <td>1.000000</td>\n",
       "      <td>1.000000</td>\n",
       "      <td>1.00000</td>\n",
       "      <td>1.00000</td>\n",
       "      <td>1.000000</td>\n",
       "      <td>1.000000</td>\n",
       "      <td>1.000000</td>\n",
       "      <td>1.000000</td>\n",
       "      <td>1.000000</td>\n",
       "      <td>7.000000</td>\n",
       "    </tr>\n",
       "  </tbody>\n",
       "</table>\n",
       "<p>8 rows × 55 columns</p>\n",
       "</div>"
      ],
      "text/plain": [
       "          Elevation        Aspect         Slope  \\\n",
       "count  10000.000000  10000.000000  10000.000000   \n",
       "mean    2955.599500    154.450000     14.114700   \n",
       "std      281.786673    111.851861      7.499705   \n",
       "min     1860.000000      0.000000      0.000000   \n",
       "25%     2804.750000     58.000000      9.000000   \n",
       "50%     2995.000000    126.000000     13.000000   \n",
       "75%     3159.000000    258.000000     18.000000   \n",
       "max     3846.000000    359.000000     65.000000   \n",
       "\n",
       "       Horizontal_Distance_To_Hydrology  Horizontal_Distance_To_Roadways  \\\n",
       "count                      10000.000000                     10000.000000   \n",
       "mean                         268.097600                        45.755300   \n",
       "std                          211.899673                        58.034207   \n",
       "min                            0.000000                      -164.000000   \n",
       "25%                           95.000000                         7.000000   \n",
       "50%                          218.000000                        29.000000   \n",
       "75%                          384.000000                        68.000000   \n",
       "max                         1243.000000                       427.000000   \n",
       "\n",
       "       Hillshade_9am  Hillshade_Noon  Hillshade_3pm  \\\n",
       "count   10000.000000     10000.00000   10000.000000   \n",
       "mean     2319.360300       212.19660     223.113500   \n",
       "std      1548.558651        26.98846      19.871067   \n",
       "min         0.000000        68.00000      71.000000   \n",
       "25%      1091.750000       198.00000     213.000000   \n",
       "50%      1977.000000       218.00000     226.000000   \n",
       "75%      3279.000000       231.00000     237.000000   \n",
       "max      7078.000000       254.00000     254.000000   \n",
       "\n",
       "       Horizontal_Distance_To_Fire_Points  Wilderness_Area_Rawah  ...  \\\n",
       "count                        10000.000000           10000.000000  ...   \n",
       "mean                           142.243800            1960.040200  ...   \n",
       "std                             37.799752            1320.535941  ...   \n",
       "min                              0.000000               0.000000  ...   \n",
       "25%                            119.000000            1006.000000  ...   \n",
       "50%                            142.000000            1699.000000  ...   \n",
       "75%                            168.000000            2524.000000  ...   \n",
       "max                            246.000000            7111.000000  ...   \n",
       "\n",
       "       Soil_Type_32  Soil_Type_33  Soil_Type_34  Soil_Type_35  Soil_Type_36  \\\n",
       "count  10000.000000  10000.000000   10000.00000   10000.00000  10000.000000   \n",
       "mean       0.091200      0.082900       0.00250       0.00250      0.000200   \n",
       "std        0.287908      0.275745       0.04994       0.04994      0.014141   \n",
       "min        0.000000      0.000000       0.00000       0.00000      0.000000   \n",
       "25%        0.000000      0.000000       0.00000       0.00000      0.000000   \n",
       "50%        0.000000      0.000000       0.00000       0.00000      0.000000   \n",
       "75%        0.000000      0.000000       0.00000       0.00000      0.000000   \n",
       "max        1.000000      1.000000       1.00000       1.00000      1.000000   \n",
       "\n",
       "       Soil_Type_37  Soil_Type_38  Soil_Type_39  Soil_Type_40    Cover_Type  \n",
       "count  10000.000000  10000.000000  10000.000000  10000.000000  10000.000000  \n",
       "mean       0.000500      0.026800      0.024500      0.013600      2.036600  \n",
       "std        0.022356      0.161507      0.154603      0.115829      1.383782  \n",
       "min        0.000000      0.000000      0.000000      0.000000      1.000000  \n",
       "25%        0.000000      0.000000      0.000000      0.000000      1.000000  \n",
       "50%        0.000000      0.000000      0.000000      0.000000      2.000000  \n",
       "75%        0.000000      0.000000      0.000000      0.000000      2.000000  \n",
       "max        1.000000      1.000000      1.000000      1.000000      7.000000  \n",
       "\n",
       "[8 rows x 55 columns]"
      ]
     },
     "execution_count": 5,
     "metadata": {},
     "output_type": "execute_result"
    }
   ],
   "source": [
    "df.describe()"
   ]
  },
  {
   "cell_type": "markdown",
   "metadata": {},
   "source": [
    "*Based on what I see above, I know that some of these features have different scales. For example, the soil type columns are really small, while the distance and area columns contain a wide range of large numbers. So, I'm gonna scale it!*"
   ]
  },
  {
   "cell_type": "code",
   "execution_count": 6,
   "metadata": {
    "tags": []
   },
   "outputs": [],
   "source": [
    "# Separate features and target variable\n",
    "X = df.drop(columns=[\"Cover_Type\"])\n",
    "y = df[\"Cover_Type\"]\n",
    "\n",
    "# Split the dataset\n",
    "X_train, X_test, y_train, y_test = train_test_split(X, y, test_size=0.3, random_state=42)\n",
    "\n",
    "# Initialize the scaler\n",
    "scaler = StandardScaler()\n",
    "\n",
    "# Fit and transform the training data\n",
    "X_train_scaled = scaler.fit_transform(X_train)\n",
    "\n",
    "# Transform the test data\n",
    "X_test_scaled = scaler.transform(X_test)"
   ]
  },
  {
   "cell_type": "markdown",
   "metadata": {},
   "source": [
    "### Step 2: Hyperparameter Tuning for SVM\n",
    "To optimize our SVM model, we need to search for the best hyperparameters that maximize classification accuracy. Since SVM performance depends heavily on `C`, `kernel`, and `gamma`, we will use `GridSearchCV()` to systematically test different combinations. Initialize a cross validation object with 5 folds using `StratifiedKFold`. Check out how `StratifiedKFold` differs from `Kfold` [here](https://scikit-learn.org/stable/modules/generated/sklearn.model_selection.StratifiedKFold.html). \n",
    "\n",
    "Then, set up a grid to test different values of: \n",
    "- `C` (regularization strength): how strictly the model fits the training data\n",
    "  - Candidate parameter values: `(0.1, 1, 10, 100)`\n",
    "- `kernel` (decision boundary shape): compares linear and radial basis function shapes\n",
    "  - Candidate parameter values: (linear, rbf)\n",
    "- `gamma` (influence of training observations): influence of individual points on decision boundary\n",
    "  - Candidate parameter values: (scale, auto)\n",
    "\n",
    "As models and datasets become more complex, consideration of computation time becomes more important.  You'll use `time.time()` to measure the time required to fit the grid object.  \n",
    "\n",
    "**Print the best parameters from your model, as well as the time required to fit the grid object.** "
   ]
  },
  {
   "cell_type": "code",
   "execution_count": 7,
   "metadata": {
    "tags": []
   },
   "outputs": [
    {
     "name": "stdout",
     "output_type": "stream",
     "text": [
      "Best Parameters: {'C': 100, 'gamma': 'auto', 'kernel': 'rbf'}\n",
      "Time taken to fit the grid object: 498.91 seconds\n"
     ]
    }
   ],
   "source": [
    "# Initialize a cross validataion object with 5 folds\n",
    "cv = StratifiedKFold(n_splits=5)\n",
    "\n",
    "# Set up the parameter grid, needed for the GridSearchCV\n",
    "param_grid = {\n",
    "    'C': [0.1, 1, 10, 100],\n",
    "    'kernel': ['linear', 'rbf'],\n",
    "    'gamma': ['scale', 'auto']\n",
    "}\n",
    "\n",
    "# Support Vector Machines! SVM, though the function is spelled SVC() for some reason\n",
    "svm = SVC()\n",
    "\n",
    "# Do the grid search!\n",
    "grid_search = GridSearchCV(estimator=svm, param_grid=param_grid, cv=cv, n_jobs=-1, verbose=0)\n",
    "\n",
    "# Measure the time it takes to fit the grid object\n",
    "start_time = time.time()\n",
    "grid_search.fit(X_train_scaled, y_train)\n",
    "end_time = time.time()\n",
    "\n",
    "# Print the best parameters\n",
    "print(\"Best Parameters:\", grid_search.best_params_)\n",
    "\n",
    "# Print the time required to fit the grid object\n",
    "print(\"Time taken to fit the grid object: {:.2f} seconds\".format(end_time - start_time))"
   ]
  },
  {
   "cell_type": "markdown",
   "metadata": {},
   "source": [
    "### Step 3: Build a fit a Random Forest for comparison\n",
    "\n",
    "Let's compare our SVM to a Random Forest classifier.  Create a grid for cross-validation with three hyperparameters of your choice to tune, along with three sensible values for each one.  \n",
    "**Print the best parameters from your model, as well as the time required to fit the grid object.** "
   ]
  },
  {
   "cell_type": "code",
   "execution_count": 9,
   "metadata": {},
   "outputs": [
    {
     "name": "stdout",
     "output_type": "stream",
     "text": [
      "Best Parameters for Random Forest: {'max_depth': 30, 'min_samples_split': 2, 'n_estimators': 200}\n",
      "Time taken to fit the Random Forest grid object: 14.68 seconds\n"
     ]
    }
   ],
   "source": [
    "# OK, lets do a random forest to make comparisons\n",
    "param_grid_rf = {\n",
    "    'n_estimators': [100, 200, 300],\n",
    "    'max_depth': [10, 20, 30],\n",
    "    'min_samples_split': [2, 5, 10]\n",
    "}\n",
    "\n",
    "# Call in the RF model\n",
    "rf = RandomForestClassifier(random_state=42)\n",
    "\n",
    "# Do the grid search, but on the rf\n",
    "grid_search_rf = GridSearchCV(estimator=rf, param_grid=param_grid_rf, cv=cv, n_jobs=-1, verbose=0)\n",
    "\n",
    "# Do the same fancy time trick\n",
    "start_time_rf = time.time()\n",
    "grid_search_rf.fit(X_train_scaled, y_train)\n",
    "end_time_rf = time.time()\n",
    "\n",
    "# Print the best parameters\n",
    "print(\"Best Parameters for Random Forest:\", grid_search_rf.best_params_)\n",
    "\n",
    "# Print the time required to fit the grid object\n",
    "print(\"Time taken to fit the Random Forest grid object: {:.2f} seconds\".format(end_time_rf - start_time_rf))"
   ]
  },
  {
   "cell_type": "markdown",
   "metadata": {},
   "source": [
    "### Step 4: Model Predictions and Evaluation\n",
    "Now that you have trained and optimized both a SVM and RF model, you will evaluate their performances on the test set to prepare for model comparison. In this step, you will:\n",
    "- Use the best models from `GridSearchCV()` to make predictions on the test set\n",
    "- Generate a confusion matrix for each model to visualize classification performance\n"
   ]
  },
  {
   "cell_type": "code",
   "execution_count": 13,
   "metadata": {},
   "outputs": [
    {
     "data": {
      "image/png": "[encoded data removed]",
      "text/plain": [
       "<Figure size 640x480 with 2 Axes>"
      ]
     },
     "metadata": {},
     "output_type": "display_data"
    },
    {
     "data": {
      "image/png": "[encoded data removed]",
      "text/plain": [
       "<Figure size 640x480 with 2 Axes>"
      ]
     },
     "metadata": {},
     "output_type": "display_data"
    }
   ],
   "source": [
    "# Best SVM model from GridSearchCV\n",
    "best_svm = grid_search.best_estimator_\n",
    "\n",
    "# Best Random Forest model from GridSearchCV\n",
    "best_rf = grid_search_rf.best_estimator_\n",
    "\n",
    "# Make predictions on the test set\n",
    "y_pred_svm = best_svm.predict(X_test_scaled)\n",
    "y_pred_rf = best_rf.predict(X_test_scaled)\n",
    "\n",
    "# Confusion matrix for SVM\n",
    "cm_svm = confusion_matrix(y_test, y_pred_svm)\n",
    "disp_svm = ConfusionMatrixDisplay(confusion_matrix=cm_svm)\n",
    "disp_svm.plot()\n",
    "plt.title(\"Confusion Matrix - SVM\")\n",
    "plt.show()\n",
    "\n",
    "# Confusion matrix for Random Forest\n",
    "cm_rf = confusion_matrix(y_test, y_pred_rf)\n",
    "disp_rf = ConfusionMatrixDisplay(confusion_matrix=cm_rf)\n",
    "disp_rf.plot()\n",
    "plt.title(\"Confusion Matrix - Random Forest\")\n",
    "plt.show()"
   ]
  },
  {
   "cell_type": "markdown",
   "metadata": {},
   "source": [
    "### Step 5: Gather and display additional performance metrics\n",
    "Now display the accuracy score and training time required for each model to so we can compare the models."
   ]
  },
  {
   "cell_type": "code",
   "execution_count": 14,
   "metadata": {},
   "outputs": [
    {
     "name": "stdout",
     "output_type": "stream",
     "text": [
      "Accuracy for SVM: 76.57\n",
      "Time taken to fit the SVM grid object: 498.91 seconds\n",
      "Accuracy for Random Forest: 80.50\n",
      "Time taken to fit the Random Forest grid object: 14.68 seconds\n"
     ]
    }
   ],
   "source": [
    "# Calculate accuracy scores\n",
    "accuracy_svm = accuracy_score(y_test, y_pred_svm)\n",
    "accuracy_rf = accuracy_score(y_test, y_pred_rf)\n",
    "\n",
    "# Print accuracy scores and training times\n",
    "print(\"Accuracy for SVM: {:.2f}\".format(accuracy_svm * 100))\n",
    "print(\"Time taken to fit the SVM grid object: {:.2f} seconds\".format(end_time - start_time))\n",
    "\n",
    "print(\"Accuracy for Random Forest: {:.2f}\".format(accuracy_rf * 100))\n",
    "print(\"Time taken to fit the Random Forest grid object: {:.2f} seconds\".format(end_time_rf - start_time_rf))"
   ]
  },
  {
   "cell_type": "markdown",
   "metadata": {},
   "source": [
    "### Step 6: Compare the models\n",
    "Now that we have trained, optimized, and evaluated both SVM and RF models, we will compare them based on overall accuracy, training time, and types of errors made.\n",
    "\n",
    "Based on these comparisons, which model is more suitable for this task?  \n"
   ]
  },
  {
   "cell_type": "markdown",
   "metadata": {},
   "source": [
    "*The accurace for SVM is a little bit lower, at around 76.57, whereas the accuracy of rf was 80.50. The time it took to run the SVM was also significantly longer, at 498.91 seconds, as opposed to 14.68 seconds. So in general, I think that in this case, the random forest model is the better choice. In a scenario where computation time was not an issue, an argument could be made for SVM. But if simplicity is the name of the game, than Random Forests is the way to go.*"
   ]
  },
  {
   "cell_type": "code",
   "execution_count": null,
   "metadata": {},
   "outputs": [],
   "source": []
  }
 ],
 "metadata": {
  "kernelspec": {
   "display_name": "Anaconda 3 (EDS232)",
   "language": "python",
   "name": "ml-env"
  },
  "language_info": {
   "codemirror_mode": {
    "name": "ipython",
    "version": 3
   },
   "file_extension": ".py",
   "mimetype": "text/x-python",
   "name": "python",
   "nbconvert_exporter": "python",
   "pygments_lexer": "ipython3",
   "version": "3.10.16"
  }
 },
 "nbformat": 4,
 "nbformat_minor": 4
}
